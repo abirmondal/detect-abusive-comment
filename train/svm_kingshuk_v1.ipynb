{
  "nbformat": 4,
  "nbformat_minor": 0,
  "metadata": {
    "colab": {
      "provenance": [],
      "gpuType": "T4",
      "mount_file_id": "1_Wv1tiL18XGhaFNR7plkmyOfpnT2DmQh",
      "authorship_tag": "ABX9TyMJf4wENJmYW1zeI0YGxHUg",
      "include_colab_link": true
    },
    "kernelspec": {
      "name": "python3",
      "display_name": "Python 3"
    },
    "language_info": {
      "name": "python"
    }
  },
  "cells": [
    {
      "cell_type": "markdown",
      "metadata": {
        "id": "view-in-github",
        "colab_type": "text"
      },
      "source": [
        "<a href=\"https://colab.research.google.com/github/roykingshuk/detect-abusive-comment/blob/main/train/svm_kingshuk_v1.ipynb\" target=\"_parent\"><img src=\"https://colab.research.google.com/assets/colab-badge.svg\" alt=\"Open In Colab\"/></a>"
      ]
    },
    {
      "cell_type": "markdown",
      "source": [
        "**Importing Neccessary Libraries**"
      ],
      "metadata": {
        "id": "Bl2iq4VMlSG7"
      }
    },
    {
      "cell_type": "code",
      "execution_count": 20,
      "metadata": {
        "colab": {
          "base_uri": "https://localhost:8080/"
        },
        "id": "d7fqVPzHjEUN",
        "outputId": "5edef196-70f8-4882-82fb-0e1f9bd66a87"
      },
      "outputs": [
        {
          "output_type": "stream",
          "name": "stderr",
          "text": [
            "[nltk_data] Downloading package punkt to /root/nltk_data...\n",
            "[nltk_data]   Package punkt is already up-to-date!\n"
          ]
        },
        {
          "output_type": "execute_result",
          "data": {
            "text/plain": [
              "True"
            ]
          },
          "metadata": {},
          "execution_count": 20
        }
      ],
      "source": [
        "import pandas as pd\n",
        "import seaborn as sns\n",
        "import matplotlib.pyplot as plt\n",
        "from sklearn import metrics\n",
        "\n",
        "from sklearn.pipeline import make_union\n",
        "from sklearn.feature_extraction.text import TfidfVectorizer\n",
        "from sklearn.svm import LinearSVC\n",
        "\n",
        "import nltk\n",
        "nltk.download('punkt')"
      ]
    },
    {
      "cell_type": "code",
      "source": [
        "# Uncomment the below code if the notebook is run on Google Colab.\n",
        "!git clone https://github.com/abirmondal/detect-abusive-comment.git"
      ],
      "metadata": {
        "colab": {
          "base_uri": "https://localhost:8080/"
        },
        "id": "jwX6MybuRo7s",
        "outputId": "3be8fc58-e44c-4644-e8f9-69069a36b000"
      },
      "execution_count": 21,
      "outputs": [
        {
          "output_type": "stream",
          "name": "stdout",
          "text": [
            "Cloning into 'detect-abusive-comment'...\n",
            "remote: Enumerating objects: 192, done.\u001b[K\n",
            "remote: Counting objects: 100% (95/95), done.\u001b[K\n",
            "remote: Compressing objects: 100% (78/78), done.\u001b[K\n",
            "remote: Total 192 (delta 40), reused 58 (delta 16), pack-reused 97\u001b[K\n",
            "Receiving objects: 100% (192/192), 37.44 MiB | 20.14 MiB/s, done.\n",
            "Resolving deltas: 100% (67/67), done.\n"
          ]
        }
      ]
    },
    {
      "cell_type": "code",
      "source": [
        "utils_folder_path = '/content/detect-abusive-comment/src/utils'\n",
        "\n",
        "import os\n",
        "os.chdir(utils_folder_path)\n",
        "\n",
        "import pandas as pd\n",
        "import model_report as mr\n",
        "import dataset as ds"
      ],
      "metadata": {
        "id": "i2qQGm2FRp9-"
      },
      "execution_count": 23,
      "outputs": []
    },
    {
      "cell_type": "markdown",
      "source": [
        "**Splitting the dataset for Training and Testing**"
      ],
      "metadata": {
        "id": "TrKwE825lkyb"
      }
    },
    {
      "cell_type": "code",
      "source": [
        "train_file_loc = '/content/detect-abusive-comment/data/m_dataset_21_9/dataset_12_10/train.csv'\n",
        "df_train = pd.read_csv(train_file_loc)\n",
        "\n",
        "test_file_loc = '/content/detect-abusive-comment/data/m_dataset_21_9/dataset_12_10/test.csv'\n",
        "df_test = pd.read_csv(test_file_loc)\n",
        "\n",
        "val_file_loc = '/content/detect-abusive-comment/data/m_dataset_21_9/dataset_12_10/val.csv'\n",
        "df_val = pd.read_csv(val_file_loc)\n",
        "\n",
        "train_x, test_x, val_x = df_train['text'].to_list(), df_test['text'].to_list(), df_val['text'].to_list()\n",
        "train_y,test_y, val_y = df_train['hate'].values, df_test['hate'].values, df_val['hate'].values,\n",
        "\n",
        "dataset_details = ds.get_dataset_details()\n",
        "\n",
        "print('\\nTraining Set :-', df_train.count(), sep=\"\\n\")\n",
        "print('\\nTesting Set :-', df_test.count(), sep=\"\\n\")\n",
        "print('\\nValidation Set :-',df_val.count(), sep=\"\\n\")\n",
        "print('\\nHate Counts in Training Set :-', df_train['hate'].value_counts(), sep=\"\\n\")\n",
        "print('\\nHate Counts in Testing Set :-', df_test['hate'].value_counts(), sep=\"\\n\")\n",
        "print('\\nHate Counts in Validation Set :-',df_val['hate'].value_counts(), sep=\"\\n\")"
      ],
      "metadata": {
        "colab": {
          "base_uri": "https://localhost:8080/"
        },
        "id": "fcPs4V-Pk4IM",
        "outputId": "c6775704-78ae-4a7c-a989-9571d3f688a6"
      },
      "execution_count": 25,
      "outputs": [
        {
          "output_type": "stream",
          "name": "stdout",
          "text": [
            "Dataset Details:-\n",
            "  Dataset Name: m_dataset_21_9\n",
            "   Total Count: 90345\n",
            "     Train Set: 63241 ( 70.0% )\n",
            "      Test Set: 18069 ( 20.0% )\n",
            "Validation Set:  9035 ( 10.0% )\n",
            "\n",
            "Training Set :-\n",
            "text    63241\n",
            "hate    63241\n",
            "dtype: int64\n",
            "\n",
            "Testing Set :-\n",
            "text    18069\n",
            "hate    18069\n",
            "dtype: int64\n",
            "\n",
            "Validation Set :-\n",
            "text    9035\n",
            "hate    9035\n",
            "dtype: int64\n",
            "\n",
            "Hate Counts in Training Set :-\n",
            "0    36419\n",
            "1    26822\n",
            "Name: hate, dtype: int64\n",
            "\n",
            "Hate Counts in Testing Set :-\n",
            "0    10406\n",
            "1     7663\n",
            "Name: hate, dtype: int64\n",
            "\n",
            "Hate Counts in Validation Set :-\n",
            "0    5203\n",
            "1    3832\n",
            "Name: hate, dtype: int64\n"
          ]
        }
      ]
    },
    {
      "cell_type": "markdown",
      "source": [
        "**Tokenization and Vectorization**"
      ],
      "metadata": {
        "id": "RbhVGhYhmHEe"
      }
    },
    {
      "cell_type": "code",
      "source": [
        "def token(doc):\n",
        "  import nltk\n",
        "  tokens = nltk.word_tokenize(doc)\n",
        "  return tokens\n",
        "\n",
        "# word unigram TFIDF vectorizer(U)\n",
        "u = TfidfVectorizer(strip_accents = None, tokenizer = token, analyzer = 'word',  ngram_range = (1,1))\n",
        "\n",
        "# char ngram TFIDF vectorizer(C)\n",
        "c2345 = TfidfVectorizer(strip_accents = None, tokenizer = token, analyzer = 'char',  ngram_range = (2,5))\n",
        "\n",
        "# word unigram + char ngram TFIDF vectorizer(U + C)\n",
        "w = TfidfVectorizer(strip_accents = None, tokenizer = token, analyzer = 'word',  ngram_range = (1,1))\n",
        "c = TfidfVectorizer(strip_accents = None, tokenizer = token, analyzer = 'char',  ngram_range = (2,5))\n",
        "u_c2345 = make_union(w, c, n_jobs = -1)\n",
        "\n",
        "features = {\n",
        "    'SVM + U':u, 'SVM + C':c2345, 'SVM + U + C':u_c2345\n",
        "}"
      ],
      "metadata": {
        "id": "39hY4PqRkc9D"
      },
      "execution_count": 26,
      "outputs": []
    },
    {
      "cell_type": "markdown",
      "source": [
        "**LinearSVC Model Implementation**"
      ],
      "metadata": {
        "id": "oZT32G0-mWa4"
      }
    },
    {
      "cell_type": "code",
      "source": [
        "target_names = ['NH', 'HS']  # NH/HS\n",
        "ngram = []\n",
        "nh_precision = []\n",
        "nh_recall = []\n",
        "nh_f1score = []\n",
        "hs_precision = []\n",
        "hs_recall = []\n",
        "hs_f1score = []\n",
        "w_precision = []\n",
        "w_recall = []\n",
        "w_f1score = []\n",
        "\n",
        "def rnd(var):    # rounding off upto four decimal places\n",
        "  rounded_var = round(var * 100, 2)\n",
        "  return rounded_var\n",
        "\n",
        "for feature in features.keys():\n",
        "  vec = features[feature]\n",
        "\n",
        "  train_vector = vec.fit_transform(train_x)\n",
        "  test_vector = vec.transform(test_x)\n",
        "\n",
        "  model = LinearSVC(penalty = 'l2', loss = 'hinge', C = 1)\n",
        "  model.fit(train_vector, train_y)\n",
        "  prediction = model.predict(test_vector)\n",
        "\n",
        "  r = metrics.classification_report(test_y, prediction, target_names = target_names, output_dict = True)\n",
        "  ngram.append(feature)\n",
        "\n",
        "  nh_precision.append(rnd(r['NH']['precision']))\n",
        "  nh_recall.append(rnd(r['NH']['recall']))\n",
        "  nh_f1score.append(rnd(r['NH']['f1-score']))\n",
        "\n",
        "  hs_precision.append(rnd(r['HS']['precision']))\n",
        "  hs_recall.append(rnd(r['HS']['recall']))\n",
        "  hs_f1score.append(rnd(r['HS']['f1-score']))\n",
        "\n",
        "  w_precision.append(rnd(r['weighted avg']['precision']))\n",
        "  w_recall.append(rnd(r['weighted avg']['recall']))\n",
        "  w_f1score.append(rnd(r['weighted avg']['f1-score']))"
      ],
      "metadata": {
        "colab": {
          "base_uri": "https://localhost:8080/"
        },
        "id": "4BafsusKknEC",
        "outputId": "c9963b5e-121e-4e07-ad06-cfe0f0109f8a"
      },
      "execution_count": 30,
      "outputs": [
        {
          "output_type": "stream",
          "name": "stderr",
          "text": [
            "/usr/local/lib/python3.10/dist-packages/sklearn/feature_extraction/text.py:528: UserWarning: The parameter 'token_pattern' will not be used since 'tokenizer' is not None'\n",
            "  warnings.warn(\n",
            "/usr/local/lib/python3.10/dist-packages/sklearn/svm/_base.py:1244: ConvergenceWarning: Liblinear failed to converge, increase the number of iterations.\n",
            "  warnings.warn(\n",
            "/usr/local/lib/python3.10/dist-packages/sklearn/feature_extraction/text.py:528: UserWarning: The parameter 'token_pattern' will not be used since 'tokenizer' is not None'\n",
            "  warnings.warn(\n",
            "/usr/local/lib/python3.10/dist-packages/sklearn/feature_extraction/text.py:563: UserWarning: The parameter 'tokenizer' will not be used since 'analyzer' != 'word'\n",
            "  warnings.warn(\n",
            "/usr/local/lib/python3.10/dist-packages/sklearn/svm/_base.py:1244: ConvergenceWarning: Liblinear failed to converge, increase the number of iterations.\n",
            "  warnings.warn(\n",
            "/usr/local/lib/python3.10/dist-packages/sklearn/svm/_base.py:1244: ConvergenceWarning: Liblinear failed to converge, increase the number of iterations.\n",
            "  warnings.warn(\n"
          ]
        }
      ]
    },
    {
      "cell_type": "code",
      "source": [
        "result = {  'Ngram feature' : ngram,\n",
        "    'NH precision' : nh_precision, 'NH recall' : nh_recall, 'NH F1' : nh_f1score,\n",
        "    'HS precision' : hs_precision, 'HS recall' : hs_recall, 'HS F1' : hs_f1score,\n",
        "    'Weighted avg precision' : w_precision, 'Weighted avg recall' : w_recall, 'Weighted avg F1' : w_f1score,\n",
        "}"
      ],
      "metadata": {
        "id": "inWDp0tqBrin"
      },
      "execution_count": 31,
      "outputs": []
    },
    {
      "cell_type": "markdown",
      "source": [
        "**Model Result**"
      ],
      "metadata": {
        "id": "VzYWRDD0hreU"
      }
    },
    {
      "cell_type": "code",
      "source": [
        "df_result = pd.DataFrame(data = result)\n",
        "confusion_matrix_sklearn = metrics.confusion_matrix(test_y, prediction)\n",
        "sns.heatmap(confusion_matrix_sklearn, annot = True, cmap = 'Blues')\n",
        "plt.xlabel('Predicted Labels')\n",
        "plt.ylabel('True Labels')\n",
        "print('Accuracy Score: ', metrics.accuracy_score(test_y, prediction))\n",
        "print('     Precision: ', metrics.precision_score(test_y, prediction))\n",
        "print('        Recall: ', metrics.recall_score(test_y, prediction))\n",
        "print('      F1-Score: ', metrics.f1_score(test_y, prediction))\n",
        "print('Classification Report :-', metrics.classification_report(test_y, prediction), sep=\"\\n\")\n",
        "\n",
        "df_result"
      ],
      "metadata": {
        "colab": {
          "base_uri": "https://localhost:8080/",
          "height": 818
        },
        "id": "iRKfNdnNaDDL",
        "outputId": "e7d64484-c6ed-41d1-c3b8-c5db1973a008"
      },
      "execution_count": 32,
      "outputs": [
        {
          "output_type": "stream",
          "name": "stdout",
          "text": [
            "Accuracy Score:  0.9072997952293984\n",
            "     Precision:  0.8999465669249266\n",
            "        Recall:  0.8791595980686415\n",
            "      F1-Score:  0.8894316456531784\n",
            "Classification Report :-\n",
            "              precision    recall  f1-score   support\n",
            "\n",
            "           0       0.91      0.93      0.92     10406\n",
            "           1       0.90      0.88      0.89      7663\n",
            "\n",
            "    accuracy                           0.91     18069\n",
            "   macro avg       0.91      0.90      0.90     18069\n",
            "weighted avg       0.91      0.91      0.91     18069\n",
            "\n"
          ]
        },
        {
          "output_type": "execute_result",
          "data": {
            "text/plain": [
              "  Ngram feature  NH precision  NH recall  NH F1  HS precision  HS recall  \\\n",
              "0       SVM + U         88.19      93.29  90.67         90.11      83.04   \n",
              "1       SVM + C         90.58      93.40  91.97         90.64      86.81   \n",
              "2   SVM + U + C         91.25      92.80  92.02         89.99      87.92   \n",
              "\n",
              "   HS F1  Weighted avg precision  Weighted avg recall  Weighted avg F1  \n",
              "0  86.43                   89.01                88.94            88.87  \n",
              "1  88.68                   90.60                90.60            90.57  \n",
              "2  88.94                   90.72                90.73            90.71  "
            ],
            "text/html": [
              "\n",
              "  <div id=\"df-3df01d90-7f6f-445a-b992-5ad93641262d\" class=\"colab-df-container\">\n",
              "    <div>\n",
              "<style scoped>\n",
              "    .dataframe tbody tr th:only-of-type {\n",
              "        vertical-align: middle;\n",
              "    }\n",
              "\n",
              "    .dataframe tbody tr th {\n",
              "        vertical-align: top;\n",
              "    }\n",
              "\n",
              "    .dataframe thead th {\n",
              "        text-align: right;\n",
              "    }\n",
              "</style>\n",
              "<table border=\"1\" class=\"dataframe\">\n",
              "  <thead>\n",
              "    <tr style=\"text-align: right;\">\n",
              "      <th></th>\n",
              "      <th>Ngram feature</th>\n",
              "      <th>NH precision</th>\n",
              "      <th>NH recall</th>\n",
              "      <th>NH F1</th>\n",
              "      <th>HS precision</th>\n",
              "      <th>HS recall</th>\n",
              "      <th>HS F1</th>\n",
              "      <th>Weighted avg precision</th>\n",
              "      <th>Weighted avg recall</th>\n",
              "      <th>Weighted avg F1</th>\n",
              "    </tr>\n",
              "  </thead>\n",
              "  <tbody>\n",
              "    <tr>\n",
              "      <th>0</th>\n",
              "      <td>SVM + U</td>\n",
              "      <td>88.19</td>\n",
              "      <td>93.29</td>\n",
              "      <td>90.67</td>\n",
              "      <td>90.11</td>\n",
              "      <td>83.04</td>\n",
              "      <td>86.43</td>\n",
              "      <td>89.01</td>\n",
              "      <td>88.94</td>\n",
              "      <td>88.87</td>\n",
              "    </tr>\n",
              "    <tr>\n",
              "      <th>1</th>\n",
              "      <td>SVM + C</td>\n",
              "      <td>90.58</td>\n",
              "      <td>93.40</td>\n",
              "      <td>91.97</td>\n",
              "      <td>90.64</td>\n",
              "      <td>86.81</td>\n",
              "      <td>88.68</td>\n",
              "      <td>90.60</td>\n",
              "      <td>90.60</td>\n",
              "      <td>90.57</td>\n",
              "    </tr>\n",
              "    <tr>\n",
              "      <th>2</th>\n",
              "      <td>SVM + U + C</td>\n",
              "      <td>91.25</td>\n",
              "      <td>92.80</td>\n",
              "      <td>92.02</td>\n",
              "      <td>89.99</td>\n",
              "      <td>87.92</td>\n",
              "      <td>88.94</td>\n",
              "      <td>90.72</td>\n",
              "      <td>90.73</td>\n",
              "      <td>90.71</td>\n",
              "    </tr>\n",
              "  </tbody>\n",
              "</table>\n",
              "</div>\n",
              "    <div class=\"colab-df-buttons\">\n",
              "\n",
              "  <div class=\"colab-df-container\">\n",
              "    <button class=\"colab-df-convert\" onclick=\"convertToInteractive('df-3df01d90-7f6f-445a-b992-5ad93641262d')\"\n",
              "            title=\"Convert this dataframe to an interactive table.\"\n",
              "            style=\"display:none;\">\n",
              "\n",
              "  <svg xmlns=\"http://www.w3.org/2000/svg\" height=\"24px\" viewBox=\"0 -960 960 960\">\n",
              "    <path d=\"M120-120v-720h720v720H120Zm60-500h600v-160H180v160Zm220 220h160v-160H400v160Zm0 220h160v-160H400v160ZM180-400h160v-160H180v160Zm440 0h160v-160H620v160ZM180-180h160v-160H180v160Zm440 0h160v-160H620v160Z\"/>\n",
              "  </svg>\n",
              "    </button>\n",
              "\n",
              "  <style>\n",
              "    .colab-df-container {\n",
              "      display:flex;\n",
              "      gap: 12px;\n",
              "    }\n",
              "\n",
              "    .colab-df-convert {\n",
              "      background-color: #E8F0FE;\n",
              "      border: none;\n",
              "      border-radius: 50%;\n",
              "      cursor: pointer;\n",
              "      display: none;\n",
              "      fill: #1967D2;\n",
              "      height: 32px;\n",
              "      padding: 0 0 0 0;\n",
              "      width: 32px;\n",
              "    }\n",
              "\n",
              "    .colab-df-convert:hover {\n",
              "      background-color: #E2EBFA;\n",
              "      box-shadow: 0px 1px 2px rgba(60, 64, 67, 0.3), 0px 1px 3px 1px rgba(60, 64, 67, 0.15);\n",
              "      fill: #174EA6;\n",
              "    }\n",
              "\n",
              "    .colab-df-buttons div {\n",
              "      margin-bottom: 4px;\n",
              "    }\n",
              "\n",
              "    [theme=dark] .colab-df-convert {\n",
              "      background-color: #3B4455;\n",
              "      fill: #D2E3FC;\n",
              "    }\n",
              "\n",
              "    [theme=dark] .colab-df-convert:hover {\n",
              "      background-color: #434B5C;\n",
              "      box-shadow: 0px 1px 3px 1px rgba(0, 0, 0, 0.15);\n",
              "      filter: drop-shadow(0px 1px 2px rgba(0, 0, 0, 0.3));\n",
              "      fill: #FFFFFF;\n",
              "    }\n",
              "  </style>\n",
              "\n",
              "    <script>\n",
              "      const buttonEl =\n",
              "        document.querySelector('#df-3df01d90-7f6f-445a-b992-5ad93641262d button.colab-df-convert');\n",
              "      buttonEl.style.display =\n",
              "        google.colab.kernel.accessAllowed ? 'block' : 'none';\n",
              "\n",
              "      async function convertToInteractive(key) {\n",
              "        const element = document.querySelector('#df-3df01d90-7f6f-445a-b992-5ad93641262d');\n",
              "        const dataTable =\n",
              "          await google.colab.kernel.invokeFunction('convertToInteractive',\n",
              "                                                    [key], {});\n",
              "        if (!dataTable) return;\n",
              "\n",
              "        const docLinkHtml = 'Like what you see? Visit the ' +\n",
              "          '<a target=\"_blank\" href=https://colab.research.google.com/notebooks/data_table.ipynb>data table notebook</a>'\n",
              "          + ' to learn more about interactive tables.';\n",
              "        element.innerHTML = '';\n",
              "        dataTable['output_type'] = 'display_data';\n",
              "        await google.colab.output.renderOutput(dataTable, element);\n",
              "        const docLink = document.createElement('div');\n",
              "        docLink.innerHTML = docLinkHtml;\n",
              "        element.appendChild(docLink);\n",
              "      }\n",
              "    </script>\n",
              "  </div>\n",
              "\n",
              "\n",
              "<div id=\"df-2b57c36c-7d6a-4891-9b09-62b7169b36ef\">\n",
              "  <button class=\"colab-df-quickchart\" onclick=\"quickchart('df-2b57c36c-7d6a-4891-9b09-62b7169b36ef')\"\n",
              "            title=\"Suggest charts\"\n",
              "            style=\"display:none;\">\n",
              "\n",
              "<svg xmlns=\"http://www.w3.org/2000/svg\" height=\"24px\"viewBox=\"0 0 24 24\"\n",
              "     width=\"24px\">\n",
              "    <g>\n",
              "        <path d=\"M19 3H5c-1.1 0-2 .9-2 2v14c0 1.1.9 2 2 2h14c1.1 0 2-.9 2-2V5c0-1.1-.9-2-2-2zM9 17H7v-7h2v7zm4 0h-2V7h2v10zm4 0h-2v-4h2v4z\"/>\n",
              "    </g>\n",
              "</svg>\n",
              "  </button>\n",
              "\n",
              "<style>\n",
              "  .colab-df-quickchart {\n",
              "      --bg-color: #E8F0FE;\n",
              "      --fill-color: #1967D2;\n",
              "      --hover-bg-color: #E2EBFA;\n",
              "      --hover-fill-color: #174EA6;\n",
              "      --disabled-fill-color: #AAA;\n",
              "      --disabled-bg-color: #DDD;\n",
              "  }\n",
              "\n",
              "  [theme=dark] .colab-df-quickchart {\n",
              "      --bg-color: #3B4455;\n",
              "      --fill-color: #D2E3FC;\n",
              "      --hover-bg-color: #434B5C;\n",
              "      --hover-fill-color: #FFFFFF;\n",
              "      --disabled-bg-color: #3B4455;\n",
              "      --disabled-fill-color: #666;\n",
              "  }\n",
              "\n",
              "  .colab-df-quickchart {\n",
              "    background-color: var(--bg-color);\n",
              "    border: none;\n",
              "    border-radius: 50%;\n",
              "    cursor: pointer;\n",
              "    display: none;\n",
              "    fill: var(--fill-color);\n",
              "    height: 32px;\n",
              "    padding: 0;\n",
              "    width: 32px;\n",
              "  }\n",
              "\n",
              "  .colab-df-quickchart:hover {\n",
              "    background-color: var(--hover-bg-color);\n",
              "    box-shadow: 0 1px 2px rgba(60, 64, 67, 0.3), 0 1px 3px 1px rgba(60, 64, 67, 0.15);\n",
              "    fill: var(--button-hover-fill-color);\n",
              "  }\n",
              "\n",
              "  .colab-df-quickchart-complete:disabled,\n",
              "  .colab-df-quickchart-complete:disabled:hover {\n",
              "    background-color: var(--disabled-bg-color);\n",
              "    fill: var(--disabled-fill-color);\n",
              "    box-shadow: none;\n",
              "  }\n",
              "\n",
              "  .colab-df-spinner {\n",
              "    border: 2px solid var(--fill-color);\n",
              "    border-color: transparent;\n",
              "    border-bottom-color: var(--fill-color);\n",
              "    animation:\n",
              "      spin 1s steps(1) infinite;\n",
              "  }\n",
              "\n",
              "  @keyframes spin {\n",
              "    0% {\n",
              "      border-color: transparent;\n",
              "      border-bottom-color: var(--fill-color);\n",
              "      border-left-color: var(--fill-color);\n",
              "    }\n",
              "    20% {\n",
              "      border-color: transparent;\n",
              "      border-left-color: var(--fill-color);\n",
              "      border-top-color: var(--fill-color);\n",
              "    }\n",
              "    30% {\n",
              "      border-color: transparent;\n",
              "      border-left-color: var(--fill-color);\n",
              "      border-top-color: var(--fill-color);\n",
              "      border-right-color: var(--fill-color);\n",
              "    }\n",
              "    40% {\n",
              "      border-color: transparent;\n",
              "      border-right-color: var(--fill-color);\n",
              "      border-top-color: var(--fill-color);\n",
              "    }\n",
              "    60% {\n",
              "      border-color: transparent;\n",
              "      border-right-color: var(--fill-color);\n",
              "    }\n",
              "    80% {\n",
              "      border-color: transparent;\n",
              "      border-right-color: var(--fill-color);\n",
              "      border-bottom-color: var(--fill-color);\n",
              "    }\n",
              "    90% {\n",
              "      border-color: transparent;\n",
              "      border-bottom-color: var(--fill-color);\n",
              "    }\n",
              "  }\n",
              "</style>\n",
              "\n",
              "  <script>\n",
              "    async function quickchart(key) {\n",
              "      const quickchartButtonEl =\n",
              "        document.querySelector('#' + key + ' button');\n",
              "      quickchartButtonEl.disabled = true;  // To prevent multiple clicks.\n",
              "      quickchartButtonEl.classList.add('colab-df-spinner');\n",
              "      try {\n",
              "        const charts = await google.colab.kernel.invokeFunction(\n",
              "            'suggestCharts', [key], {});\n",
              "      } catch (error) {\n",
              "        console.error('Error during call to suggestCharts:', error);\n",
              "      }\n",
              "      quickchartButtonEl.classList.remove('colab-df-spinner');\n",
              "      quickchartButtonEl.classList.add('colab-df-quickchart-complete');\n",
              "    }\n",
              "    (() => {\n",
              "      let quickchartButtonEl =\n",
              "        document.querySelector('#df-2b57c36c-7d6a-4891-9b09-62b7169b36ef button');\n",
              "      quickchartButtonEl.style.display =\n",
              "        google.colab.kernel.accessAllowed ? 'block' : 'none';\n",
              "    })();\n",
              "  </script>\n",
              "</div>\n",
              "    </div>\n",
              "  </div>\n"
            ]
          },
          "metadata": {},
          "execution_count": 32
        },
        {
          "output_type": "display_data",
          "data": {
            "text/plain": [
              "<Figure size 640x480 with 2 Axes>"
            ],
            "image/png": "[encoded data removed]"
          },
          "metadata": {}
        }
      ]
    }
  ]
}