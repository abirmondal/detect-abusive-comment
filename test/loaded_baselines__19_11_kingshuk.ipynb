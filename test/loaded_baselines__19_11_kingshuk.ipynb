{
  "nbformat": 4,
  "nbformat_minor": 0,
  "metadata": {
    "colab": {
      "provenance": [],
      "include_colab_link": true
    },
    "kernelspec": {
      "name": "python3",
      "display_name": "Python 3"
    },
    "language_info": {
      "name": "python"
    }
  },
  "cells": [
    {
      "cell_type": "markdown",
      "metadata": {
        "id": "view-in-github",
        "colab_type": "text"
      },
      "source": [
        "<a href=\"https://colab.research.google.com/github/roykingshuk/detect-abusive-comment/blob/main/test/loaded_baselines__19_11_kingshuk.ipynb\" target=\"_parent\"><img src=\"https://colab.research.google.com/assets/colab-badge.svg\" alt=\"Open In Colab\"/></a>"
      ]
    },
    {
      "cell_type": "markdown",
      "source": [
        "# Importing Necessary Libraries and Github Repository"
      ],
      "metadata": {
        "id": "X7EEOLhFCEUo"
      }
    },
    {
      "cell_type": "code",
      "source": [
        "# Uncomment the below code if the notebook is run on Google Colab.\n",
        "!git clone https://github.com/abirmondal/detect-abusive-comment.git"
      ],
      "metadata": {
        "colab": {
          "base_uri": "https://localhost:8080/"
        },
        "id": "hX-jUnwzwruQ",
        "outputId": "61f5dc7c-94b0-4f41-eab0-4d0095c9bf42"
      },
      "execution_count": 16,
      "outputs": [
        {
          "output_type": "stream",
          "name": "stdout",
          "text": [
            "Cloning into 'detect-abusive-comment'...\n",
            "remote: Enumerating objects: 212, done.\u001b[K\n",
            "remote: Counting objects: 100% (115/115), done.\u001b[K\n",
            "remote: Compressing objects: 100% (96/96), done.\u001b[K\n",
            "remote: Total 212 (delta 48), reused 63 (delta 18), pack-reused 97\u001b[K\n",
            "Receiving objects: 100% (212/212), 72.69 MiB | 30.55 MiB/s, done.\n",
            "Resolving deltas: 100% (75/75), done.\n"
          ]
        }
      ]
    },
    {
      "cell_type": "code",
      "source": [
        "utils_folder_path = '/content/detect-abusive-comment/src/utils'\n",
        "\n",
        "import os\n",
        "from sklearn.feature_extraction.text import TfidfVectorizer\n",
        "os.chdir(utils_folder_path)\n",
        "\n",
        "import pickle as pkl\n",
        "import bz2\n",
        "import _pickle as cPickle\n",
        "import model_report as mr\n",
        "import dataset as ds"
      ],
      "metadata": {
        "id": "ihQyhWC-wn85"
      },
      "execution_count": 17,
      "outputs": []
    },
    {
      "cell_type": "markdown",
      "source": [
        "# Loading Training and Testing Dataset"
      ],
      "metadata": {
        "id": "p21K7LPhCV6w"
      }
    },
    {
      "cell_type": "code",
      "source": [
        "df_train, df_test = ds.get_full_dataset(val=False)\n",
        "X_train, X_test = df_train['text'].to_list(), df_test['text'].to_list()\n",
        "Y_train, Y_test = df_train['hate'].values, df_test['hate'].values\n",
        "\n",
        "ds.get_dataset_details()\n",
        "print('\\nTesting Set Dataset Structure :-')\n",
        "ds.get_test_set()"
      ],
      "metadata": {
        "colab": {
          "base_uri": "https://localhost:8080/",
          "height": 562
        },
        "id": "dB89YzbK9U03",
        "outputId": "2c7bb7ab-fd56-47a6-db36-63b7de0c133e"
      },
      "execution_count": 18,
      "outputs": [
        {
          "output_type": "stream",
          "name": "stdout",
          "text": [
            "Dataset Details:-\n",
            "  Dataset Name: m_dataset_21_9\n",
            "   Total Count: 90345\n",
            "     Train Set: 63241 ( 70.0% )\n",
            "      Test Set: 18069 ( 20.0% )\n",
            "Validation Set:  9035 ( 10.0% )\n",
            "\n",
            "Testing Set Dataset Structure :-\n"
          ]
        },
        {
          "output_type": "execute_result",
          "data": {
            "text/plain": [
              "                                                    text  hate\n",
              "0      বাঙালি জীবনেও আগাইতে পারবে না এই ধরনের শো বাইর...     0\n",
              "1                   বাহ চমেৎকার সিলেট খুলনাকে হারাই দিলো     0\n",
              "2                          এই সালা কে গুলি করে মারা উচিত     1\n",
              "3              ধুর তোর খেলার মাইরে বাপ আর খেলাই দেখবো না     0\n",
              "4               ভচ মিথ্যা বলেন কেনো আপনি তো গাঁজা খাইছেন     1\n",
              "...                                                  ...   ...\n",
              "18064  আল্লাহ এই যুগের মেয়েরা কি এখনো এত বোকা আছে না...     0\n",
              "18065  অপেক্ষায় আছে বাংলাদেশের কোটি মানুষ কবে শুনতে ...     0\n",
              "18066  হুই হাই হুই হাই করার সময় ভাবি এত্তগুলি বান্দর...     0\n",
              "18067                       সব মাদার চুদরা দারিয়ে দেকলো     1\n",
              "18068                                 এরা সব ভন্ড শয়তান     1\n",
              "\n",
              "[18069 rows x 2 columns]"
            ],
            "text/html": [
              "\n",
              "  <div id=\"df-741fbac9-940e-4019-8d88-6d223493ec43\" class=\"colab-df-container\">\n",
              "    <div>\n",
              "<style scoped>\n",
              "    .dataframe tbody tr th:only-of-type {\n",
              "        vertical-align: middle;\n",
              "    }\n",
              "\n",
              "    .dataframe tbody tr th {\n",
              "        vertical-align: top;\n",
              "    }\n",
              "\n",
              "    .dataframe thead th {\n",
              "        text-align: right;\n",
              "    }\n",
              "</style>\n",
              "<table border=\"1\" class=\"dataframe\">\n",
              "  <thead>\n",
              "    <tr style=\"text-align: right;\">\n",
              "      <th></th>\n",
              "      <th>text</th>\n",
              "      <th>hate</th>\n",
              "    </tr>\n",
              "  </thead>\n",
              "  <tbody>\n",
              "    <tr>\n",
              "      <th>0</th>\n",
              "      <td>বাঙালি জীবনেও আগাইতে পারবে না এই ধরনের শো বাইর...</td>\n",
              "      <td>0</td>\n",
              "    </tr>\n",
              "    <tr>\n",
              "      <th>1</th>\n",
              "      <td>বাহ চমেৎকার সিলেট খুলনাকে হারাই দিলো</td>\n",
              "      <td>0</td>\n",
              "    </tr>\n",
              "    <tr>\n",
              "      <th>2</th>\n",
              "      <td>এই সালা কে গুলি করে মারা উচিত</td>\n",
              "      <td>1</td>\n",
              "    </tr>\n",
              "    <tr>\n",
              "      <th>3</th>\n",
              "      <td>ধুর তোর খেলার মাইরে বাপ আর খেলাই দেখবো না</td>\n",
              "      <td>0</td>\n",
              "    </tr>\n",
              "    <tr>\n",
              "      <th>4</th>\n",
              "      <td>ভচ মিথ্যা বলেন কেনো আপনি তো গাঁজা খাইছেন</td>\n",
              "      <td>1</td>\n",
              "    </tr>\n",
              "    <tr>\n",
              "      <th>...</th>\n",
              "      <td>...</td>\n",
              "      <td>...</td>\n",
              "    </tr>\n",
              "    <tr>\n",
              "      <th>18064</th>\n",
              "      <td>আল্লাহ এই যুগের মেয়েরা কি এখনো এত বোকা আছে না...</td>\n",
              "      <td>0</td>\n",
              "    </tr>\n",
              "    <tr>\n",
              "      <th>18065</th>\n",
              "      <td>অপেক্ষায় আছে বাংলাদেশের কোটি মানুষ কবে শুনতে ...</td>\n",
              "      <td>0</td>\n",
              "    </tr>\n",
              "    <tr>\n",
              "      <th>18066</th>\n",
              "      <td>হুই হাই হুই হাই করার সময় ভাবি এত্তগুলি বান্দর...</td>\n",
              "      <td>0</td>\n",
              "    </tr>\n",
              "    <tr>\n",
              "      <th>18067</th>\n",
              "      <td>সব মাদার চুদরা দারিয়ে দেকলো</td>\n",
              "      <td>1</td>\n",
              "    </tr>\n",
              "    <tr>\n",
              "      <th>18068</th>\n",
              "      <td>এরা সব ভন্ড শয়তান</td>\n",
              "      <td>1</td>\n",
              "    </tr>\n",
              "  </tbody>\n",
              "</table>\n",
              "<p>18069 rows × 2 columns</p>\n",
              "</div>\n",
              "    <div class=\"colab-df-buttons\">\n",
              "\n",
              "  <div class=\"colab-df-container\">\n",
              "    <button class=\"colab-df-convert\" onclick=\"convertToInteractive('df-741fbac9-940e-4019-8d88-6d223493ec43')\"\n",
              "            title=\"Convert this dataframe to an interactive table.\"\n",
              "            style=\"display:none;\">\n",
              "\n",
              "  <svg xmlns=\"http://www.w3.org/2000/svg\" height=\"24px\" viewBox=\"0 -960 960 960\">\n",
              "    <path d=\"M120-120v-720h720v720H120Zm60-500h600v-160H180v160Zm220 220h160v-160H400v160Zm0 220h160v-160H400v160ZM180-400h160v-160H180v160Zm440 0h160v-160H620v160ZM180-180h160v-160H180v160Zm440 0h160v-160H620v160Z\"/>\n",
              "  </svg>\n",
              "    </button>\n",
              "\n",
              "  <style>\n",
              "    .colab-df-container {\n",
              "      display:flex;\n",
              "      gap: 12px;\n",
              "    }\n",
              "\n",
              "    .colab-df-convert {\n",
              "      background-color: #E8F0FE;\n",
              "      border: none;\n",
              "      border-radius: 50%;\n",
              "      cursor: pointer;\n",
              "      display: none;\n",
              "      fill: #1967D2;\n",
              "      height: 32px;\n",
              "      padding: 0 0 0 0;\n",
              "      width: 32px;\n",
              "    }\n",
              "\n",
              "    .colab-df-convert:hover {\n",
              "      background-color: #E2EBFA;\n",
              "      box-shadow: 0px 1px 2px rgba(60, 64, 67, 0.3), 0px 1px 3px 1px rgba(60, 64, 67, 0.15);\n",
              "      fill: #174EA6;\n",
              "    }\n",
              "\n",
              "    .colab-df-buttons div {\n",
              "      margin-bottom: 4px;\n",
              "    }\n",
              "\n",
              "    [theme=dark] .colab-df-convert {\n",
              "      background-color: #3B4455;\n",
              "      fill: #D2E3FC;\n",
              "    }\n",
              "\n",
              "    [theme=dark] .colab-df-convert:hover {\n",
              "      background-color: #434B5C;\n",
              "      box-shadow: 0px 1px 3px 1px rgba(0, 0, 0, 0.15);\n",
              "      filter: drop-shadow(0px 1px 2px rgba(0, 0, 0, 0.3));\n",
              "      fill: #FFFFFF;\n",
              "    }\n",
              "  </style>\n",
              "\n",
              "    <script>\n",
              "      const buttonEl =\n",
              "        document.querySelector('#df-741fbac9-940e-4019-8d88-6d223493ec43 button.colab-df-convert');\n",
              "      buttonEl.style.display =\n",
              "        google.colab.kernel.accessAllowed ? 'block' : 'none';\n",
              "\n",
              "      async function convertToInteractive(key) {\n",
              "        const element = document.querySelector('#df-741fbac9-940e-4019-8d88-6d223493ec43');\n",
              "        const dataTable =\n",
              "          await google.colab.kernel.invokeFunction('convertToInteractive',\n",
              "                                                    [key], {});\n",
              "        if (!dataTable) return;\n",
              "\n",
              "        const docLinkHtml = 'Like what you see? Visit the ' +\n",
              "          '<a target=\"_blank\" href=https://colab.research.google.com/notebooks/data_table.ipynb>data table notebook</a>'\n",
              "          + ' to learn more about interactive tables.';\n",
              "        element.innerHTML = '';\n",
              "        dataTable['output_type'] = 'display_data';\n",
              "        await google.colab.output.renderOutput(dataTable, element);\n",
              "        const docLink = document.createElement('div');\n",
              "        docLink.innerHTML = docLinkHtml;\n",
              "        element.appendChild(docLink);\n",
              "      }\n",
              "    </script>\n",
              "  </div>\n",
              "\n",
              "\n",
              "<div id=\"df-828faef0-bb30-4456-ab82-785f33a7293d\">\n",
              "  <button class=\"colab-df-quickchart\" onclick=\"quickchart('df-828faef0-bb30-4456-ab82-785f33a7293d')\"\n",
              "            title=\"Suggest charts\"\n",
              "            style=\"display:none;\">\n",
              "\n",
              "<svg xmlns=\"http://www.w3.org/2000/svg\" height=\"24px\"viewBox=\"0 0 24 24\"\n",
              "     width=\"24px\">\n",
              "    <g>\n",
              "        <path d=\"M19 3H5c-1.1 0-2 .9-2 2v14c0 1.1.9 2 2 2h14c1.1 0 2-.9 2-2V5c0-1.1-.9-2-2-2zM9 17H7v-7h2v7zm4 0h-2V7h2v10zm4 0h-2v-4h2v4z\"/>\n",
              "    </g>\n",
              "</svg>\n",
              "  </button>\n",
              "\n",
              "<style>\n",
              "  .colab-df-quickchart {\n",
              "      --bg-color: #E8F0FE;\n",
              "      --fill-color: #1967D2;\n",
              "      --hover-bg-color: #E2EBFA;\n",
              "      --hover-fill-color: #174EA6;\n",
              "      --disabled-fill-color: #AAA;\n",
              "      --disabled-bg-color: #DDD;\n",
              "  }\n",
              "\n",
              "  [theme=dark] .colab-df-quickchart {\n",
              "      --bg-color: #3B4455;\n",
              "      --fill-color: #D2E3FC;\n",
              "      --hover-bg-color: #434B5C;\n",
              "      --hover-fill-color: #FFFFFF;\n",
              "      --disabled-bg-color: #3B4455;\n",
              "      --disabled-fill-color: #666;\n",
              "  }\n",
              "\n",
              "  .colab-df-quickchart {\n",
              "    background-color: var(--bg-color);\n",
              "    border: none;\n",
              "    border-radius: 50%;\n",
              "    cursor: pointer;\n",
              "    display: none;\n",
              "    fill: var(--fill-color);\n",
              "    height: 32px;\n",
              "    padding: 0;\n",
              "    width: 32px;\n",
              "  }\n",
              "\n",
              "  .colab-df-quickchart:hover {\n",
              "    background-color: var(--hover-bg-color);\n",
              "    box-shadow: 0 1px 2px rgba(60, 64, 67, 0.3), 0 1px 3px 1px rgba(60, 64, 67, 0.15);\n",
              "    fill: var(--button-hover-fill-color);\n",
              "  }\n",
              "\n",
              "  .colab-df-quickchart-complete:disabled,\n",
              "  .colab-df-quickchart-complete:disabled:hover {\n",
              "    background-color: var(--disabled-bg-color);\n",
              "    fill: var(--disabled-fill-color);\n",
              "    box-shadow: none;\n",
              "  }\n",
              "\n",
              "  .colab-df-spinner {\n",
              "    border: 2px solid var(--fill-color);\n",
              "    border-color: transparent;\n",
              "    border-bottom-color: var(--fill-color);\n",
              "    animation:\n",
              "      spin 1s steps(1) infinite;\n",
              "  }\n",
              "\n",
              "  @keyframes spin {\n",
              "    0% {\n",
              "      border-color: transparent;\n",
              "      border-bottom-color: var(--fill-color);\n",
              "      border-left-color: var(--fill-color);\n",
              "    }\n",
              "    20% {\n",
              "      border-color: transparent;\n",
              "      border-left-color: var(--fill-color);\n",
              "      border-top-color: var(--fill-color);\n",
              "    }\n",
              "    30% {\n",
              "      border-color: transparent;\n",
              "      border-left-color: var(--fill-color);\n",
              "      border-top-color: var(--fill-color);\n",
              "      border-right-color: var(--fill-color);\n",
              "    }\n",
              "    40% {\n",
              "      border-color: transparent;\n",
              "      border-right-color: var(--fill-color);\n",
              "      border-top-color: var(--fill-color);\n",
              "    }\n",
              "    60% {\n",
              "      border-color: transparent;\n",
              "      border-right-color: var(--fill-color);\n",
              "    }\n",
              "    80% {\n",
              "      border-color: transparent;\n",
              "      border-right-color: var(--fill-color);\n",
              "      border-bottom-color: var(--fill-color);\n",
              "    }\n",
              "    90% {\n",
              "      border-color: transparent;\n",
              "      border-bottom-color: var(--fill-color);\n",
              "    }\n",
              "  }\n",
              "</style>\n",
              "\n",
              "  <script>\n",
              "    async function quickchart(key) {\n",
              "      const quickchartButtonEl =\n",
              "        document.querySelector('#' + key + ' button');\n",
              "      quickchartButtonEl.disabled = true;  // To prevent multiple clicks.\n",
              "      quickchartButtonEl.classList.add('colab-df-spinner');\n",
              "      try {\n",
              "        const charts = await google.colab.kernel.invokeFunction(\n",
              "            'suggestCharts', [key], {});\n",
              "      } catch (error) {\n",
              "        console.error('Error during call to suggestCharts:', error);\n",
              "      }\n",
              "      quickchartButtonEl.classList.remove('colab-df-spinner');\n",
              "      quickchartButtonEl.classList.add('colab-df-quickchart-complete');\n",
              "    }\n",
              "    (() => {\n",
              "      let quickchartButtonEl =\n",
              "        document.querySelector('#df-828faef0-bb30-4456-ab82-785f33a7293d button');\n",
              "      quickchartButtonEl.style.display =\n",
              "        google.colab.kernel.accessAllowed ? 'block' : 'none';\n",
              "    })();\n",
              "  </script>\n",
              "</div>\n",
              "    </div>\n",
              "  </div>\n"
            ]
          },
          "metadata": {},
          "execution_count": 18
        }
      ]
    },
    {
      "cell_type": "markdown",
      "source": [
        "# TF-IDF Vectorization"
      ],
      "metadata": {
        "id": "v4fnDZZ3A178"
      }
    },
    {
      "cell_type": "code",
      "source": [
        "tfidf_vectorizer = TfidfVectorizer()\n",
        "X_train_tfidf = tfidf_vectorizer.fit_transform(X_train)\n",
        "X_test_tfidf = tfidf_vectorizer.transform(X_test)"
      ],
      "metadata": {
        "id": "R1fr9nDY9U-C"
      },
      "execution_count": 19,
      "outputs": []
    },
    {
      "cell_type": "markdown",
      "source": [
        "# **Loading Pre-Trained Model**\n",
        "\n",
        "---\n",
        "\n",
        "\n",
        "\n",
        "1.   Support Vector Machine (svm)\n",
        "2.   Logistic Regression (lr)\n",
        "3.   Naive Bayes (mnb)\n",
        "4.   Random Forest (rf)\n",
        "\n"
      ],
      "metadata": {
        "id": "-GlNgUipBByB"
      }
    },
    {
      "cell_type": "code",
      "source": [
        "# To change the pre-trained model just change the model type to (svm/lr/mnb) present in the model_path just before the file extension\n",
        "model_path = '/content/detect-abusive-comment/src/models/toxic-comments-mnb.pkl'\n",
        "loaded_model = pkl.load(open(model_path, 'rb'))\n",
        "\n",
        "# Uncomment this code to  set the path and load the PBZ2 File for Random Forest\n",
        "# model_path = '/content/detect-abusive-comment/src/models/toxic-comments-rf.pbz2'\n",
        "# loaded_model = cPickle.load(bz2.BZ2File(model_path, 'rb'))"
      ],
      "metadata": {
        "id": "Ag9KH6uq5IjU"
      },
      "execution_count": 32,
      "outputs": []
    },
    {
      "cell_type": "code",
      "source": [
        "y_pred = loaded_model.predict(X_test_tfidf)\n",
        "mr.confusion_mat(Y_test, y_pred)\n",
        "mr.model_eval(Y_test, y_pred)"
      ],
      "metadata": {
        "colab": {
          "base_uri": "https://localhost:8080/",
          "height": 709
        },
        "id": "hC8GVXJWw2yc",
        "outputId": "36215547-9c3f-45c0-aac5-25379167a55a"
      },
      "execution_count": 33,
      "outputs": [
        {
          "output_type": "stream",
          "name": "stdout",
          "text": [
            "    Accuracy Score:  0.716420388510709\n",
            "Weighted Precision:  0.7486777668952008\n",
            "   Weighted Recall:  0.4987602766540519\n",
            "          F1-Score:  0.5986842105263158\n",
            "\n",
            "Classification Report :-\n",
            "               precision    recall  f1-score   support\n",
            "\n",
            "           0       0.70      0.88      0.78     10406\n",
            "           1       0.75      0.50      0.60      7663\n",
            "\n",
            "    accuracy                           0.72     18069\n",
            "   macro avg       0.73      0.69      0.69     18069\n",
            "weighted avg       0.72      0.72      0.70     18069\n",
            "\n"
          ]
        },
        {
          "output_type": "display_data",
          "data": {
            "text/plain": [
              "<Figure size 640x480 with 2 Axes>"
            ],
            "image/png": "[encoded data removed]"
          },
          "metadata": {}
        }
      ]
    }
  ]
}